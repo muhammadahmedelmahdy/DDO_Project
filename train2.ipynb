{
 "cells": [
  {
   "cell_type": "markdown",
   "metadata": {},
   "source": [
    "# Imports"
   ]
  },
  {
   "cell_type": "code",
   "execution_count": 1,
   "metadata": {},
   "outputs": [
    {
     "name": "stderr",
     "output_type": "stream",
     "text": [
      "2024-12-20 17:19:00.986316: I tensorflow/core/util/port.cc:110] oneDNN custom operations are on. You may see slightly different numerical results due to floating-point round-off errors from different computation orders. To turn them off, set the environment variable `TF_ENABLE_ONEDNN_OPTS=0`.\n",
      "2024-12-20 17:19:00.987443: I tensorflow/tsl/cuda/cudart_stub.cc:28] Could not find cuda drivers on your machine, GPU will not be used.\n",
      "2024-12-20 17:19:01.012900: I tensorflow/core/platform/cpu_feature_guard.cc:182] This TensorFlow binary is optimized to use available CPU instructions in performance-critical operations.\n",
      "To enable the following instructions: AVX2 AVX512F AVX512_VNNI FMA, in other operations, rebuild TensorFlow with the appropriate compiler flags.\n",
      "2024-12-20 17:19:01.458833: W tensorflow/compiler/tf2tensorrt/utils/py_utils.cc:38] TF-TRT Warning: Could not find TensorRT\n"
     ]
    }
   ],
   "source": [
    "import numpy as np\n",
    "import random\n",
    "import time\n",
    "from collections import deque\n",
    "from stable_baselines3.common.env_checker import check_env\n",
    "from stable_baselines3 import PPO, DQN, A2C\n",
    "import copy\n",
    "from stable_baselines3 import DQN\n",
    "import os\n",
    "from sb3_contrib import MaskablePPO\n",
    "from sb3_contrib.common.maskable.evaluation import evaluate_policy\n",
    "from sb3_contrib.common.maskable.utils import get_action_masks\n",
    "from sb3_contrib.common.maskable.callbacks import MaskableEvalCallback"
   ]
  },
  {
   "cell_type": "markdown",
   "metadata": {},
   "source": []
  },
  {
   "cell_type": "code",
   "execution_count": 3,
   "metadata": {},
   "outputs": [],
   "source": [
    "import warnings\n",
    "\n",
    "warnings.filterwarnings(\"ignore\", category=UserWarning, module=\"gymnasium\")\n"
   ]
  },
  {
   "cell_type": "code",
   "execution_count": 4,
   "metadata": {},
   "outputs": [],
   "source": [
    "from env import Environment"
   ]
  },
  {
   "cell_type": "markdown",
   "metadata": {},
   "source": [
    "# Creating an instance"
   ]
  },
  {
   "cell_type": "code",
   "execution_count": 5,
   "metadata": {},
   "outputs": [],
   "source": [
    "env=Environment()"
   ]
  },
  {
   "cell_type": "code",
   "execution_count": 6,
   "metadata": {},
   "outputs": [
    {
     "data": {
      "text/plain": [
       "({'orders': array([[ 5.68000000e+02,  4.58663590e+07,  1.74536720e+08,\n",
       "           4.58565200e+07,  1.74507435e+08],\n",
       "         [ 5.72000000e+02,  4.58763000e+07,  1.74545760e+08,\n",
       "           4.58617260e+07,  1.74540302e+08],\n",
       "         [ 6.98900000e+03,  4.58600560e+07,  1.74564786e+08,\n",
       "           4.58729590e+07,  1.74584956e+08],\n",
       "         ...,\n",
       "         [-1.00000000e+00, -1.00000000e+00, -1.00000000e+00,\n",
       "          -1.00000000e+00, -1.00000000e+00],\n",
       "         [-1.00000000e+00, -1.00000000e+00, -1.00000000e+00,\n",
       "          -1.00000000e+00, -1.00000000e+00],\n",
       "         [-1.00000000e+00, -1.00000000e+00, -1.00000000e+00,\n",
       "          -1.00000000e+00, -1.00000000e+00]]),\n",
       "  'couriers': array([[ 2.00000000e+00,  3.00000000e+00,  4.58963400e+07,\n",
       "           1.74555869e+08,  0.00000000e+00],\n",
       "         [ 1.30000000e+01,  7.00000000e+00,  4.58495280e+07,\n",
       "           1.74545052e+08,  0.00000000e+00],\n",
       "         [ 1.70000000e+01,  6.00000000e+00,  4.58871120e+07,\n",
       "           1.74595874e+08,  0.00000000e+00],\n",
       "         ...,\n",
       "         [-1.00000000e+00, -1.00000000e+00, -1.00000000e+00,\n",
       "          -1.00000000e+00, -1.00000000e+00],\n",
       "         [-1.00000000e+00, -1.00000000e+00, -1.00000000e+00,\n",
       "          -1.00000000e+00, -1.00000000e+00],\n",
       "         [-1.00000000e+00, -1.00000000e+00, -1.00000000e+00,\n",
       "          -1.00000000e+00, -1.00000000e+00]]),\n",
       "  'system': array([ 46, 544])},\n",
       " {})"
      ]
     },
     "execution_count": 6,
     "metadata": {},
     "output_type": "execute_result"
    }
   ],
   "source": [
    "env.reset()"
   ]
  },
  {
   "cell_type": "code",
   "execution_count": 7,
   "metadata": {},
   "outputs": [],
   "source": [
    "models_dir = '/home/muhammadelmahdy/rl_dispatcher/models/neww_discrete_new_reward_load_time'"
   ]
  },
  {
   "cell_type": "code",
   "execution_count": 8,
   "metadata": {},
   "outputs": [],
   "source": [
    "logdir = '/home/muhammadelmahdy/rl_dispatcher/logs/neww_discrete_new_reward_load_time'"
   ]
  },
  {
   "cell_type": "code",
   "execution_count": 9,
   "metadata": {},
   "outputs": [],
   "source": [
    "if not os.path.exists(models_dir):\n",
    "    os.makedirs(models_dir)\n",
    "if not os.path.exists(logdir):\n",
    "    os.makedirs(logdir)\n",
    "    \n"
   ]
  },
  {
   "cell_type": "markdown",
   "metadata": {},
   "source": [
    "# Train"
   ]
  },
  {
   "cell_type": "code",
   "execution_count": null,
   "metadata": {},
   "outputs": [],
   "source": [
    "model_PPO = MaskablePPO(\"MultiInputPolicy\", env, gamma=0.9, seed=32, verbose=1, tensorboard_log=logdir)\n",
    "#gae_lambda=0.95,\n",
    "#model_PPO = MaskablePPO(\"MultiInputPolicy\", env, gamma=0.95, seed=32, verbose=1, tensorboard_log=logdir, learning_rate=5e-3)\n",
    "TIMESTEPS = 10000\n",
    "MAX_ITERATIONS = 150 # Set a maximum number of iterations for training\n",
    "\n",
    "iters = 0\n",
    "while iters < MAX_ITERATIONS:\n",
    "    iters += 1\n",
    "    \n",
    "    print('iteration number: ',iters)\n",
    "    model_PPO.learn(total_timesteps=TIMESTEPS, reset_num_timesteps=False, tb_log_name=f\"NewRunnn2\")\n",
    "    model_PPO.save(f\"{models_dir}/{TIMESTEPS*iters}\")\n",
    "\n"
   ]
  }
 ],
 "metadata": {
  "kernelspec": {
   "display_name": "dispatcher_env",
   "language": "python",
   "name": "python3"
  },
  "language_info": {
   "codemirror_mode": {
    "name": "ipython",
    "version": 3
   },
   "file_extension": ".py",
   "mimetype": "text/x-python",
   "name": "python",
   "nbconvert_exporter": "python",
   "pygments_lexer": "ipython3",
   "version": "3.8.20"
  }
 },
 "nbformat": 4,
 "nbformat_minor": 2
}
