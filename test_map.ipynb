{
 "cells": [
  {
   "cell_type": "markdown",
   "metadata": {},
   "source": [
    "# Imports"
   ]
  },
  {
   "cell_type": "code",
   "execution_count": 26,
   "metadata": {},
   "outputs": [],
   "source": [
    "import pickle\n",
    "import networkx as nx\n",
    "import matplotlib.pyplot as plt\n",
    "import numpy as np\n",
    "import pandas as pd\n",
    "\n"
   ]
  },
  {
   "cell_type": "code",
   "execution_count": 27,
   "metadata": {},
   "outputs": [],
   "source": [
    "df=pd.read_csv('all_waybill_info_meituan_0322.csv')"
   ]
  },
  {
   "cell_type": "code",
   "execution_count": 28,
   "metadata": {},
   "outputs": [
    {
     "data": {
      "text/html": [
       "<div>\n",
       "<style scoped>\n",
       "    .dataframe tbody tr th:only-of-type {\n",
       "        vertical-align: middle;\n",
       "    }\n",
       "\n",
       "    .dataframe tbody tr th {\n",
       "        vertical-align: top;\n",
       "    }\n",
       "\n",
       "    .dataframe thead th {\n",
       "        text-align: right;\n",
       "    }\n",
       "</style>\n",
       "<table border=\"1\" class=\"dataframe\">\n",
       "  <thead>\n",
       "    <tr style=\"text-align: right;\">\n",
       "      <th></th>\n",
       "      <th>Unnamed: 0</th>\n",
       "      <th>dt</th>\n",
       "      <th>order_id</th>\n",
       "      <th>waybill_id</th>\n",
       "      <th>courier_id</th>\n",
       "      <th>da_id</th>\n",
       "      <th>is_courier_grabbed</th>\n",
       "      <th>is_weekend</th>\n",
       "      <th>estimate_arrived_time</th>\n",
       "      <th>is_prebook</th>\n",
       "      <th>...</th>\n",
       "      <th>recipient_lat</th>\n",
       "      <th>grab_lng</th>\n",
       "      <th>grab_lat</th>\n",
       "      <th>dispatch_time</th>\n",
       "      <th>grab_time</th>\n",
       "      <th>fetch_time</th>\n",
       "      <th>arrive_time</th>\n",
       "      <th>estimate_meal_prepare_time</th>\n",
       "      <th>order_push_time</th>\n",
       "      <th>platform_order_time</th>\n",
       "    </tr>\n",
       "  </thead>\n",
       "  <tbody>\n",
       "    <tr>\n",
       "      <th>0</th>\n",
       "      <td>0</td>\n",
       "      <td>20221017</td>\n",
       "      <td>0</td>\n",
       "      <td>0</td>\n",
       "      <td>0</td>\n",
       "      <td>0</td>\n",
       "      <td>0</td>\n",
       "      <td>1</td>\n",
       "      <td>1665937978</td>\n",
       "      <td>0</td>\n",
       "      <td>...</td>\n",
       "      <td>45852786</td>\n",
       "      <td>0</td>\n",
       "      <td>0</td>\n",
       "      <td>1665936258</td>\n",
       "      <td>0</td>\n",
       "      <td>0</td>\n",
       "      <td>0</td>\n",
       "      <td>1665936779</td>\n",
       "      <td>1665936000</td>\n",
       "      <td>1665935996</td>\n",
       "    </tr>\n",
       "    <tr>\n",
       "      <th>1</th>\n",
       "      <td>1</td>\n",
       "      <td>20221017</td>\n",
       "      <td>1</td>\n",
       "      <td>1</td>\n",
       "      <td>1</td>\n",
       "      <td>1</td>\n",
       "      <td>1</td>\n",
       "      <td>1</td>\n",
       "      <td>1665937864</td>\n",
       "      <td>0</td>\n",
       "      <td>...</td>\n",
       "      <td>45898250</td>\n",
       "      <td>174530062</td>\n",
       "      <td>45906005</td>\n",
       "      <td>1665936734</td>\n",
       "      <td>1665936737</td>\n",
       "      <td>1665937344</td>\n",
       "      <td>1665937798</td>\n",
       "      <td>1665936845</td>\n",
       "      <td>1665936006</td>\n",
       "      <td>1665935995</td>\n",
       "    </tr>\n",
       "    <tr>\n",
       "      <th>2</th>\n",
       "      <td>2</td>\n",
       "      <td>20221017</td>\n",
       "      <td>2</td>\n",
       "      <td>2</td>\n",
       "      <td>2</td>\n",
       "      <td>2</td>\n",
       "      <td>1</td>\n",
       "      <td>0</td>\n",
       "      <td>1665939504</td>\n",
       "      <td>0</td>\n",
       "      <td>...</td>\n",
       "      <td>45891243</td>\n",
       "      <td>174548244</td>\n",
       "      <td>45870923</td>\n",
       "      <td>1665937484</td>\n",
       "      <td>1665937501</td>\n",
       "      <td>1665938346</td>\n",
       "      <td>1665939384</td>\n",
       "      <td>1665938007</td>\n",
       "      <td>1665937107</td>\n",
       "      <td>1665937097</td>\n",
       "    </tr>\n",
       "    <tr>\n",
       "      <th>3</th>\n",
       "      <td>3</td>\n",
       "      <td>20221017</td>\n",
       "      <td>3</td>\n",
       "      <td>3</td>\n",
       "      <td>3</td>\n",
       "      <td>0</td>\n",
       "      <td>1</td>\n",
       "      <td>0</td>\n",
       "      <td>1665939432</td>\n",
       "      <td>0</td>\n",
       "      <td>...</td>\n",
       "      <td>45886787</td>\n",
       "      <td>174560199</td>\n",
       "      <td>45867948</td>\n",
       "      <td>1665937394</td>\n",
       "      <td>1665937397</td>\n",
       "      <td>1665937830</td>\n",
       "      <td>1665939822</td>\n",
       "      <td>1665937634</td>\n",
       "      <td>1665937369</td>\n",
       "      <td>1665937028</td>\n",
       "    </tr>\n",
       "    <tr>\n",
       "      <th>4</th>\n",
       "      <td>4</td>\n",
       "      <td>20221017</td>\n",
       "      <td>4</td>\n",
       "      <td>4</td>\n",
       "      <td>4</td>\n",
       "      <td>0</td>\n",
       "      <td>1</td>\n",
       "      <td>0</td>\n",
       "      <td>1665938894</td>\n",
       "      <td>0</td>\n",
       "      <td>...</td>\n",
       "      <td>45867411</td>\n",
       "      <td>174554896</td>\n",
       "      <td>45865167</td>\n",
       "      <td>1665937394</td>\n",
       "      <td>1665937413</td>\n",
       "      <td>1665937710</td>\n",
       "      <td>1665938262</td>\n",
       "      <td>1665937694</td>\n",
       "      <td>1665937373</td>\n",
       "      <td>1665937092</td>\n",
       "    </tr>\n",
       "  </tbody>\n",
       "</table>\n",
       "<p>5 rows × 24 columns</p>\n",
       "</div>"
      ],
      "text/plain": [
       "   Unnamed: 0        dt  order_id  waybill_id  courier_id  da_id  \\\n",
       "0           0  20221017         0           0           0      0   \n",
       "1           1  20221017         1           1           1      1   \n",
       "2           2  20221017         2           2           2      2   \n",
       "3           3  20221017         3           3           3      0   \n",
       "4           4  20221017         4           4           4      0   \n",
       "\n",
       "   is_courier_grabbed  is_weekend  estimate_arrived_time  is_prebook  ...  \\\n",
       "0                   0           1             1665937978           0  ...   \n",
       "1                   1           1             1665937864           0  ...   \n",
       "2                   1           0             1665939504           0  ...   \n",
       "3                   1           0             1665939432           0  ...   \n",
       "4                   1           0             1665938894           0  ...   \n",
       "\n",
       "   recipient_lat   grab_lng  grab_lat  dispatch_time   grab_time  fetch_time  \\\n",
       "0       45852786          0         0     1665936258           0           0   \n",
       "1       45898250  174530062  45906005     1665936734  1665936737  1665937344   \n",
       "2       45891243  174548244  45870923     1665937484  1665937501  1665938346   \n",
       "3       45886787  174560199  45867948     1665937394  1665937397  1665937830   \n",
       "4       45867411  174554896  45865167     1665937394  1665937413  1665937710   \n",
       "\n",
       "   arrive_time  estimate_meal_prepare_time  order_push_time  \\\n",
       "0            0                  1665936779       1665936000   \n",
       "1   1665937798                  1665936845       1665936006   \n",
       "2   1665939384                  1665938007       1665937107   \n",
       "3   1665939822                  1665937634       1665937369   \n",
       "4   1665938262                  1665937694       1665937373   \n",
       "\n",
       "   platform_order_time  \n",
       "0           1665935996  \n",
       "1           1665935995  \n",
       "2           1665937097  \n",
       "3           1665937028  \n",
       "4           1665937092  \n",
       "\n",
       "[5 rows x 24 columns]"
      ]
     },
     "execution_count": 28,
     "metadata": {},
     "output_type": "execute_result"
    }
   ],
   "source": [
    "df.head()"
   ]
  },
  {
   "cell_type": "code",
   "execution_count": 30,
   "metadata": {},
   "outputs": [],
   "source": [
    "df=df[df['is_courier_grabbed']==1]"
   ]
  },
  {
   "cell_type": "code",
   "execution_count": 31,
   "metadata": {},
   "outputs": [
    {
     "data": {
      "text/html": [
       "<div>\n",
       "<style scoped>\n",
       "    .dataframe tbody tr th:only-of-type {\n",
       "        vertical-align: middle;\n",
       "    }\n",
       "\n",
       "    .dataframe tbody tr th {\n",
       "        vertical-align: top;\n",
       "    }\n",
       "\n",
       "    .dataframe thead th {\n",
       "        text-align: right;\n",
       "    }\n",
       "</style>\n",
       "<table border=\"1\" class=\"dataframe\">\n",
       "  <thead>\n",
       "    <tr style=\"text-align: right;\">\n",
       "      <th></th>\n",
       "      <th>Unnamed: 0</th>\n",
       "      <th>dt</th>\n",
       "      <th>order_id</th>\n",
       "      <th>waybill_id</th>\n",
       "      <th>courier_id</th>\n",
       "      <th>da_id</th>\n",
       "      <th>is_courier_grabbed</th>\n",
       "      <th>is_weekend</th>\n",
       "      <th>estimate_arrived_time</th>\n",
       "      <th>is_prebook</th>\n",
       "      <th>...</th>\n",
       "      <th>recipient_lat</th>\n",
       "      <th>grab_lng</th>\n",
       "      <th>grab_lat</th>\n",
       "      <th>dispatch_time</th>\n",
       "      <th>grab_time</th>\n",
       "      <th>fetch_time</th>\n",
       "      <th>arrive_time</th>\n",
       "      <th>estimate_meal_prepare_time</th>\n",
       "      <th>order_push_time</th>\n",
       "      <th>platform_order_time</th>\n",
       "    </tr>\n",
       "  </thead>\n",
       "  <tbody>\n",
       "    <tr>\n",
       "      <th>1</th>\n",
       "      <td>1</td>\n",
       "      <td>20221017</td>\n",
       "      <td>1</td>\n",
       "      <td>1</td>\n",
       "      <td>1</td>\n",
       "      <td>1</td>\n",
       "      <td>1</td>\n",
       "      <td>1</td>\n",
       "      <td>1665937864</td>\n",
       "      <td>0</td>\n",
       "      <td>...</td>\n",
       "      <td>45898250</td>\n",
       "      <td>174530062</td>\n",
       "      <td>45906005</td>\n",
       "      <td>1665936734</td>\n",
       "      <td>1665936737</td>\n",
       "      <td>1665937344</td>\n",
       "      <td>1665937798</td>\n",
       "      <td>1665936845</td>\n",
       "      <td>1665936006</td>\n",
       "      <td>1665935995</td>\n",
       "    </tr>\n",
       "    <tr>\n",
       "      <th>2</th>\n",
       "      <td>2</td>\n",
       "      <td>20221017</td>\n",
       "      <td>2</td>\n",
       "      <td>2</td>\n",
       "      <td>2</td>\n",
       "      <td>2</td>\n",
       "      <td>1</td>\n",
       "      <td>0</td>\n",
       "      <td>1665939504</td>\n",
       "      <td>0</td>\n",
       "      <td>...</td>\n",
       "      <td>45891243</td>\n",
       "      <td>174548244</td>\n",
       "      <td>45870923</td>\n",
       "      <td>1665937484</td>\n",
       "      <td>1665937501</td>\n",
       "      <td>1665938346</td>\n",
       "      <td>1665939384</td>\n",
       "      <td>1665938007</td>\n",
       "      <td>1665937107</td>\n",
       "      <td>1665937097</td>\n",
       "    </tr>\n",
       "    <tr>\n",
       "      <th>3</th>\n",
       "      <td>3</td>\n",
       "      <td>20221017</td>\n",
       "      <td>3</td>\n",
       "      <td>3</td>\n",
       "      <td>3</td>\n",
       "      <td>0</td>\n",
       "      <td>1</td>\n",
       "      <td>0</td>\n",
       "      <td>1665939432</td>\n",
       "      <td>0</td>\n",
       "      <td>...</td>\n",
       "      <td>45886787</td>\n",
       "      <td>174560199</td>\n",
       "      <td>45867948</td>\n",
       "      <td>1665937394</td>\n",
       "      <td>1665937397</td>\n",
       "      <td>1665937830</td>\n",
       "      <td>1665939822</td>\n",
       "      <td>1665937634</td>\n",
       "      <td>1665937369</td>\n",
       "      <td>1665937028</td>\n",
       "    </tr>\n",
       "    <tr>\n",
       "      <th>4</th>\n",
       "      <td>4</td>\n",
       "      <td>20221017</td>\n",
       "      <td>4</td>\n",
       "      <td>4</td>\n",
       "      <td>4</td>\n",
       "      <td>0</td>\n",
       "      <td>1</td>\n",
       "      <td>0</td>\n",
       "      <td>1665938894</td>\n",
       "      <td>0</td>\n",
       "      <td>...</td>\n",
       "      <td>45867411</td>\n",
       "      <td>174554896</td>\n",
       "      <td>45865167</td>\n",
       "      <td>1665937394</td>\n",
       "      <td>1665937413</td>\n",
       "      <td>1665937710</td>\n",
       "      <td>1665938262</td>\n",
       "      <td>1665937694</td>\n",
       "      <td>1665937373</td>\n",
       "      <td>1665937092</td>\n",
       "    </tr>\n",
       "    <tr>\n",
       "      <th>5</th>\n",
       "      <td>5</td>\n",
       "      <td>20221017</td>\n",
       "      <td>5</td>\n",
       "      <td>5</td>\n",
       "      <td>5</td>\n",
       "      <td>3</td>\n",
       "      <td>1</td>\n",
       "      <td>0</td>\n",
       "      <td>1665940500</td>\n",
       "      <td>0</td>\n",
       "      <td>...</td>\n",
       "      <td>45921310</td>\n",
       "      <td>174526338</td>\n",
       "      <td>45912309</td>\n",
       "      <td>1665938727</td>\n",
       "      <td>1665938741</td>\n",
       "      <td>1665940061</td>\n",
       "      <td>1665940496</td>\n",
       "      <td>1665939225</td>\n",
       "      <td>1665938403</td>\n",
       "      <td>1665938399</td>\n",
       "    </tr>\n",
       "  </tbody>\n",
       "</table>\n",
       "<p>5 rows × 24 columns</p>\n",
       "</div>"
      ],
      "text/plain": [
       "   Unnamed: 0        dt  order_id  waybill_id  courier_id  da_id  \\\n",
       "1           1  20221017         1           1           1      1   \n",
       "2           2  20221017         2           2           2      2   \n",
       "3           3  20221017         3           3           3      0   \n",
       "4           4  20221017         4           4           4      0   \n",
       "5           5  20221017         5           5           5      3   \n",
       "\n",
       "   is_courier_grabbed  is_weekend  estimate_arrived_time  is_prebook  ...  \\\n",
       "1                   1           1             1665937864           0  ...   \n",
       "2                   1           0             1665939504           0  ...   \n",
       "3                   1           0             1665939432           0  ...   \n",
       "4                   1           0             1665938894           0  ...   \n",
       "5                   1           0             1665940500           0  ...   \n",
       "\n",
       "   recipient_lat   grab_lng  grab_lat  dispatch_time   grab_time  fetch_time  \\\n",
       "1       45898250  174530062  45906005     1665936734  1665936737  1665937344   \n",
       "2       45891243  174548244  45870923     1665937484  1665937501  1665938346   \n",
       "3       45886787  174560199  45867948     1665937394  1665937397  1665937830   \n",
       "4       45867411  174554896  45865167     1665937394  1665937413  1665937710   \n",
       "5       45921310  174526338  45912309     1665938727  1665938741  1665940061   \n",
       "\n",
       "   arrive_time  estimate_meal_prepare_time  order_push_time  \\\n",
       "1   1665937798                  1665936845       1665936006   \n",
       "2   1665939384                  1665938007       1665937107   \n",
       "3   1665939822                  1665937634       1665937369   \n",
       "4   1665938262                  1665937694       1665937373   \n",
       "5   1665940496                  1665939225       1665938403   \n",
       "\n",
       "   platform_order_time  \n",
       "1           1665935995  \n",
       "2           1665937097  \n",
       "3           1665937028  \n",
       "4           1665937092  \n",
       "5           1665938399  \n",
       "\n",
       "[5 rows x 24 columns]"
      ]
     },
     "execution_count": 31,
     "metadata": {},
     "output_type": "execute_result"
    }
   ],
   "source": [
    "df.head()"
   ]
  },
  {
   "cell_type": "code",
   "execution_count": 35,
   "metadata": {},
   "outputs": [
    {
     "data": {
      "text/plain": [
       "1         45905850\n",
       "2         45861460\n",
       "3         45868015\n",
       "4         45868015\n",
       "5         45920329\n",
       "            ...   \n",
       "654337    45879427\n",
       "654339    45868634\n",
       "654340    45879398\n",
       "654341    45889549\n",
       "654342    45887997\n",
       "Name: sender_lat, Length: 568546, dtype: int64"
      ]
     },
     "execution_count": 35,
     "metadata": {},
     "output_type": "execute_result"
    }
   ],
   "source": [
    "df['sender_lat']"
   ]
  },
  {
   "cell_type": "code",
   "execution_count": 36,
   "metadata": {},
   "outputs": [
    {
     "data": {
      "text/plain": [
       "1         174529930\n",
       "2         174532407\n",
       "3         174559718\n",
       "4         174559718\n",
       "5         174542688\n",
       "            ...    \n",
       "654337    174650494\n",
       "654339    174575022\n",
       "654340    174650478\n",
       "654341    174535543\n",
       "654342    174533308\n",
       "Name: sender_lng, Length: 568546, dtype: int64"
      ]
     },
     "execution_count": 36,
     "metadata": {},
     "output_type": "execute_result"
    }
   ],
   "source": [
    "df['sender_lng']"
   ]
  },
  {
   "cell_type": "code",
   "execution_count": 42,
   "metadata": {},
   "outputs": [
    {
     "data": {
      "text/plain": [
       "1         45906005\n",
       "2         45870923\n",
       "3         45867948\n",
       "4         45865167\n",
       "5         45912309\n",
       "            ...   \n",
       "654337    45879505\n",
       "654339    45873238\n",
       "654340    45872077\n",
       "654341    45895683\n",
       "654342    45894631\n",
       "Name: grab_lat, Length: 568546, dtype: int64"
      ]
     },
     "execution_count": 42,
     "metadata": {},
     "output_type": "execute_result"
    }
   ],
   "source": [
    "df['grab_lat']"
   ]
  },
  {
   "cell_type": "code",
   "execution_count": 43,
   "metadata": {},
   "outputs": [
    {
     "data": {
      "text/plain": [
       "1         174530062\n",
       "2         174548244\n",
       "3         174560199\n",
       "4         174554896\n",
       "5         174526338\n",
       "            ...    \n",
       "654337    174648556\n",
       "654339    174576809\n",
       "654340    174624149\n",
       "654341    174537979\n",
       "654342    174534142\n",
       "Name: grab_lng, Length: 568546, dtype: int64"
      ]
     },
     "execution_count": 43,
     "metadata": {},
     "output_type": "execute_result"
    }
   ],
   "source": [
    "df['grab_lng']"
   ]
  },
  {
   "cell_type": "code",
   "execution_count": 32,
   "metadata": {},
   "outputs": [
    {
     "name": "stderr",
     "output_type": "stream",
     "text": [
      "/tmp/ipykernel_4820/1920812435.py:1: SettingWithCopyWarning: \n",
      "A value is trying to be set on a copy of a slice from a DataFrame.\n",
      "Try using .loc[row_indexer,col_indexer] = value instead\n",
      "\n",
      "See the caveats in the documentation: https://pandas.pydata.org/pandas-docs/stable/user_guide/indexing.html#returning-a-view-versus-a-copy\n",
      "  df['delay']=df['fetch_time']-df['grab_time']\n"
     ]
    }
   ],
   "source": [
    "df['delay']=df['fetch_time']-df['grab_time']"
   ]
  },
  {
   "cell_type": "code",
   "execution_count": 34,
   "metadata": {},
   "outputs": [
    {
     "data": {
      "text/plain": [
       "1          607\n",
       "2          845\n",
       "3          433\n",
       "4          297\n",
       "5         1320\n",
       "          ... \n",
       "654337     469\n",
       "654339     824\n",
       "654340     966\n",
       "654341     696\n",
       "654342     323\n",
       "Name: delay, Length: 568546, dtype: int64"
      ]
     },
     "execution_count": 34,
     "metadata": {},
     "output_type": "execute_result"
    }
   ],
   "source": [
    "df['delay']"
   ]
  },
  {
   "cell_type": "code",
   "execution_count": 37,
   "metadata": {},
   "outputs": [],
   "source": [
    "G = nx.Graph()\n",
    "\n",
    "# Add edges from the dataframe\n",
    "for _, row in df.iterrows():\n",
    "    node1 = (row[\"sender_lng\"], row[\"sender_lat\"])  # First point (lng, lat)\n",
    "    node2 = (row[\"grab_lng\"], row[\"grab_lat\"])  # Second point (lng, lat)\n",
    "    time = row[\"delay\"]                 # Time as edge weight\n",
    "    G.add_edge(node1, node2, weight=time)"
   ]
  },
  {
   "cell_type": "code",
   "execution_count": 39,
   "metadata": {},
   "outputs": [
    {
     "name": "stdout",
     "output_type": "stream",
     "text": [
      "Graph saved to undirected_graph.pkl\n"
     ]
    }
   ],
   "source": [
    "output_file = \"undirected_graph.pkl\"\n",
    "with open(output_file, \"wb\") as f:\n",
    "    pickle.dump(G, f)\n",
    "print(f\"Graph saved to {output_file}\")"
   ]
  },
  {
   "cell_type": "code",
   "execution_count": 40,
   "metadata": {},
   "outputs": [],
   "source": [
    "with open(output_file, \"rb\") as f:\n",
    "    G_loaded = pickle.load(f)"
   ]
  },
  {
   "cell_type": "code",
   "execution_count": null,
   "metadata": {},
   "outputs": [],
   "source": []
  },
  {
   "cell_type": "code",
   "execution_count": 2,
   "metadata": {},
   "outputs": [],
   "source": [
    "import matplotlib.pyplot as plt"
   ]
  },
  {
   "cell_type": "code",
   "execution_count": 53,
   "metadata": {},
   "outputs": [],
   "source": [
    "start_node=(174530062,45906005)\n",
    "end_node=(174529930,45905850)"
   ]
  },
  {
   "cell_type": "code",
   "execution_count": 54,
   "metadata": {},
   "outputs": [
    {
     "name": "stdout",
     "output_type": "stream",
     "text": [
      "The shortest path from (174530062, 45906005) to (174529930, 45905850) is: [(174530062, 45906005), (174529930, 45905850)]\n",
      "Edge values along the shortest path:\n",
      "Edge (174530062, 45906005) -> (174529930, 45905850): 607\n"
     ]
    }
   ],
   "source": [
    "# Find the shortest path\n",
    "try:\n",
    "    shortest_path = nx.shortest_path(G_loaded, source=start_node, target=end_node)\n",
    "    print(f\"The shortest path from {start_node} to {end_node} is: {shortest_path}\")\n",
    "\n",
    "    # Get the values of the edges in the shortest path\n",
    "    edge_values = []\n",
    "    for i in range(len(shortest_path) - 1):\n",
    "        u, v = shortest_path[i], shortest_path[i + 1]\n",
    "        edge_data = G_loaded[u][v]  # Access edge attributes\n",
    "        edge_values.append(edge_data)  # Store the attributes\n",
    "\n",
    "    print(\"Edge values along the shortest path:\")\n",
    "    for i, edge in enumerate(edge_values):\n",
    "        print(f\"Edge {shortest_path[i]} -> {shortest_path[i + 1]}: {edge['weight']}\")\n",
    "\n",
    "except nx.NetworkXNoPath:\n",
    "    print(f\"No path exists between {start_node} and {end_node}.\")\n",
    "except nx.NodeNotFound as e:\n",
    "    print(f\"Error: {e}\")\n"
   ]
  },
  {
   "cell_type": "code",
   "execution_count": 49,
   "metadata": {},
   "outputs": [],
   "source": [
    "def find_time(start_node,end_node):\n",
    "    \n",
    "    # Find the shortest path\n",
    "    try:\n",
    "        shortest_path = nx.shortest_path(G, source=start_node, target=end_node)\n",
    "        #print(f\"The shortest path from {start_node} to {end_node} is: {shortest_path}\")\n",
    "\n",
    "        # Get the values of the edges in the shortest path\n",
    "        edge_values = []\n",
    "        for i in range(len(shortest_path) - 1):\n",
    "            u, v = shortest_path[i], shortest_path[i + 1]\n",
    "            edge_data = G[u][v]  # Access edge attributes\n",
    "            edge_values.append(edge_data)  # Store the attributes\n",
    "        total_time=0\n",
    "        #print(\"Edge values along the shortest path:\")\n",
    "        for i, edge in enumerate(edge_values):\n",
    "            total_time += edge['weight']\n",
    "            #print(f\"Edge {shortest_path[i]} -> {shortest_path[i + 1]}: {edge['weight']}\")\n",
    "\n",
    "    except nx.NetworkXNoPath:\n",
    "        print(f\"No path exists between {start_node} and {end_node}.\")\n",
    "        total_time=0\n",
    "    except nx.NodeNotFound as e:\n",
    "        print(f\"Error: {e}\")\n",
    "        total_time=0\n",
    "    return total_time"
   ]
  },
  {
   "cell_type": "code",
   "execution_count": 50,
   "metadata": {},
   "outputs": [],
   "source": [
    "total_time=find_time((174529517, 45906094) ,(174578340, 45877890))"
   ]
  },
  {
   "cell_type": "code",
   "execution_count": 51,
   "metadata": {},
   "outputs": [
    {
     "data": {
      "text/plain": [
       "6606"
      ]
     },
     "execution_count": 51,
     "metadata": {},
     "output_type": "execute_result"
    }
   ],
   "source": [
    "total_time"
   ]
  },
  {
   "cell_type": "code",
   "execution_count": null,
   "metadata": {},
   "outputs": [],
   "source": []
  }
 ],
 "metadata": {
  "kernelspec": {
   "display_name": "dispatcher_env",
   "language": "python",
   "name": "python3"
  },
  "language_info": {
   "codemirror_mode": {
    "name": "ipython",
    "version": 3
   },
   "file_extension": ".py",
   "mimetype": "text/x-python",
   "name": "python",
   "nbconvert_exporter": "python",
   "pygments_lexer": "ipython3",
   "version": "3.8.20"
  }
 },
 "nbformat": 4,
 "nbformat_minor": 2
}
